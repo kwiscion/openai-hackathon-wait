{
 "cells": [
  {
   "cell_type": "code",
   "execution_count": 1,
   "metadata": {},
   "outputs": [],
   "source": [
    "from openai import OpenAI\n",
    "from dotenv import load_dotenv\n",
    "\n",
    "load_dotenv()\n",
    "\n",
    "client = OpenAI()"
   ]
  },
  {
   "cell_type": "code",
   "execution_count": 2,
   "metadata": {},
   "outputs": [],
   "source": [
    "from openai_hackathon_wait.api.arxiv import arxiv_tool"
   ]
  },
  {
   "cell_type": "code",
   "execution_count": 3,
   "metadata": {},
   "outputs": [],
   "source": [
    "from agents import Agent, Runner, AsyncOpenAI, OpenAIChatCompletionsModel\n",
    "import asyncio\n",
    "\n",
    "arxiv_agent = Agent(\n",
    "    name=\"Arxiv agent\",\n",
    "    instructions=\"You provide information about the papers that are related to the query.\",\n",
    "    tools=[arxiv_tool],\n",
    "    model=\"gpt-4o-mini\", \n",
    ")\n",
    "\n",
    "triage_agent = Agent(\n",
    "    name=\"Triage agent\",\n",
    "    instructions=\"You are a helpful assistant that finds the most relevant papers from Arxiv.\",\n",
    "    handoffs=[arxiv_agent],\n",
    "    model=\"gpt-4o-mini\",\n",
    ")"
   ]
  },
  {
   "cell_type": "code",
   "execution_count": 4,
   "metadata": {},
   "outputs": [],
   "source": [
    "async def main():\n",
    "    result = await Runner.run(triage_agent, input=\"Find papers about soft decision trees in machine learning\")\n",
    "    print(result.final_output)"
   ]
  },
  {
   "cell_type": "code",
   "execution_count": 5,
   "metadata": {},
   "outputs": [
    {
     "name": "stdout",
     "output_type": "stream",
     "text": [
      "Here are some papers related to soft decision trees in machine learning:\n",
      "\n",
      "1. **Rectified Decision Trees: Exploring the Landscape of Interpretable and Effective Machine Learning**\n",
      "   - **Authors**: Yiming Li, Jiawang Bai, Jiawei Li, Xue Yang, Yong Jiang, Shu-Tao Xia\n",
      "   - **Published**: 2020-08-21\n",
      "   - **Summary**: This paper discusses the balance between interpretability and effectiveness in machine learning, particularly through the lens of decision trees.\n",
      "\n",
      "2. **Analyzing Tree Architectures in Ensembles via Neural Tangent Kernel**\n",
      "   - **Authors**: Ryuichi Kanoh, Mahito Sugiyama\n",
      "   - **Published**: 2023-02-07\n",
      "   - **Summary**: This work explores soft trees, a variant of decision trees that are characterized by their ability to update and adapt, using neural tangent kernels for analysis.\n",
      "\n",
      "3. **Variational Boosted Soft Trees**\n",
      "   - **Authors**: Tristan Cinquin, Tammo Rukat, Philipp Schmidt, Martin Wistuba, Artur Bekasov\n",
      "   - **Published**: 2023-02-22\n",
      "   - **Summary**: The authors focus on gradient boosting machines based on decision trees, particularly highlighting the efficacy of variational methods in implementing soft trees.\n",
      "\n",
      "These papers provide insights into both theoretical and practical aspects of soft decision trees in machine learning.\n"
     ]
    }
   ],
   "source": [
    "await main()"
   ]
  }
 ],
 "metadata": {
  "kernelspec": {
   "display_name": ".venv",
   "language": "python",
   "name": "python3"
  },
  "language_info": {
   "codemirror_mode": {
    "name": "ipython",
    "version": 3
   },
   "file_extension": ".py",
   "mimetype": "text/x-python",
   "name": "python",
   "nbconvert_exporter": "python",
   "pygments_lexer": "ipython3",
   "version": "3.12.9"
  }
 },
 "nbformat": 4,
 "nbformat_minor": 2
}
