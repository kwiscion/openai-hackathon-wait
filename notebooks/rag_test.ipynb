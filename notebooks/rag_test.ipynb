{
 "cells": [
  {
   "cell_type": "code",
   "execution_count": 1,
   "metadata": {},
   "outputs": [],
   "source": [
    "from openai import AsyncOpenAI\n",
    "\n",
    "from openai_hackathon_wait.rag import RAG\n",
    "from openai_hackathon_wait.create_context import create_context"
   ]
  },
  {
   "cell_type": "code",
   "execution_count": 2,
   "metadata": {},
   "outputs": [],
   "source": [
    "PAPER_CONTENT = \"\"\"\n",
    "# Abstract\n",
    "\n",
    "We present PPCEF, a novel method for generating prob-\n",
    "abilistically plausible counterfactual explanations (CFs). PPCEF ad-\n",
    "vances beyond existing methods by combining a probabilistic formula-\n",
    "tion that leverages the data distribution with the optimization of plausi-\n",
    "bility within a unified framework. Compared to reference approaches,\n",
    "our method enforces plausibility by directly optimizing the explicit\n",
    "density function without assuming a particular family of parametrized\n",
    "distributions. This ensures CFs are not only valid (i.e., achieve class\n",
    "change) but also align with the underlying data’s probability density.\n",
    "For that purpose, our approach leverages normalizing flows as power-\n",
    "ful density estimators to capture the complex high-dimensional data\n",
    "distribution. Furthermore, we introduce a novel loss function that bal-\n",
    "ances the trade-off between achieving class change and maintaining\n",
    "closeness to the original instance while also incorporating a proba-\n",
    "bilistic plausibility term. PPCEF’s unconstrained formulation allows\n",
    "for an efficient gradient-based optimization with batch processing,\n",
    "leading to orders of magnitude faster computation compared to prior\n",
    "methods. Moreover, the unconstrained formulation of PPCEF allows\n",
    "for the seamless integration of future constraints tailored to specific\n",
    "counterfactual properties. Finally, extensive evaluations demonstrate\n",
    "PPCEF’s superiority in generating high-quality, probabilistically plau-\n",
    "sible counterfactual explanations in high-dimensional tabular settings.\n",
    "\n",
    "# Keywords\n",
    "Counterfactual Explanations, Probabilistic Plausibility, Normalizing Flows, Explainable AI (XAI)\n",
    "\"\"\""
   ]
  },
  {
   "cell_type": "code",
   "execution_count": 3,
   "metadata": {},
   "outputs": [],
   "source": [
    "client = AsyncOpenAI()"
   ]
  },
  {
   "cell_type": "code",
   "execution_count": 4,
   "metadata": {},
   "outputs": [
    {
     "name": "stderr",
     "output_type": "stream",
     "text": [
      "\u001b[32m2025-04-26 03:20:55.076\u001b[0m | \u001b[1mINFO    \u001b[0m | \u001b[36mopenai_hackathon_wait.tools.arxiv_tool\u001b[0m:\u001b[36marxiv_search\u001b[0m:\u001b[36m60\u001b[0m - \u001b[1mMax results: 25\u001b[0m\n",
      "\u001b[32m2025-04-26 03:20:55.076\u001b[0m | \u001b[1mINFO    \u001b[0m | \u001b[36mopenai_hackathon_wait.tools.arxiv_tool\u001b[0m:\u001b[36marxiv_search\u001b[0m:\u001b[36m61\u001b[0m - \u001b[1mSort by: relevance\u001b[0m\n",
      "\u001b[32m2025-04-26 03:20:55.077\u001b[0m | \u001b[1mINFO    \u001b[0m | \u001b[36mopenai_hackathon_wait.tools.arxiv_tool\u001b[0m:\u001b[36marxiv_search\u001b[0m:\u001b[36m73\u001b[0m - \u001b[1mStarting arXiv search for: PPCEF (Probabilistically Plausible Counterfactual Explanations), Counterfactual Explanations, Probab...\u001b[0m\n",
      "\u001b[32m2025-04-26 03:20:57.709\u001b[0m | \u001b[1mINFO    \u001b[0m | \u001b[36mopenai_hackathon_wait.api.utils.get_article_keywords\u001b[0m:\u001b[36mget_article_keywords\u001b[0m:\u001b[36m42\u001b[0m - \u001b[1mArticle keywords response: keywords=['PPCEF', 'Probabilistically Plausible Counterfactual Explanations', 'Counterfactual Explanations', 'Probabilistic Plausibility', 'Normalizing Flows', 'Explainable AI', 'XAI', 'Causal Inference', 'Machine Learning Interpretability', 'Probabilistic Models', 'Counterfactual Reasoning', 'Data-Driven Explanations', 'Generative Models', 'Bayesian Inference', 'Causal Models', 'AI Transparency', 'Model Interpretability', 'Explainable Machine Learning', 'Causal Analysis', 'Statistical Explanations', 'Flow-based Generative Models', 'Counterfactual Analysis', 'AI Ethics', 'Decision Making in AI', 'Uncertainty Quantification in AI']\u001b[0m\n",
      "\u001b[32m2025-04-26 03:20:57.709\u001b[0m | \u001b[1mINFO    \u001b[0m | \u001b[36mopenai_hackathon_wait.tools.arxiv_tool\u001b[0m:\u001b[36marxiv_search\u001b[0m:\u001b[36m76\u001b[0m - \u001b[1mExtracted keywords: ['Counterfactual Reasoning', 'Causal Inference', 'Probabilistically Plausible Counterfactual Explanations', 'Probabilistic Plausibility', 'Causal Models', 'Explainable Machine Learning', 'Explainable AI', 'Counterfactual Explanations', 'PPCEF', 'AI Ethics', 'Statistical Explanations', 'XAI', 'Machine Learning Interpretability', 'Probabilistic Models', 'Normalizing Flows', 'Flow-based Generative Models', 'Counterfactual Analysis', 'Causal Analysis', 'Uncertainty Quantification in AI', 'Decision Making in AI', 'Bayesian Inference', 'AI Transparency', 'Data-Driven Explanations', 'Generative Models', 'Model Interpretability']\u001b[0m\n",
      "\u001b[32m2025-04-26 03:20:59.098\u001b[0m | \u001b[1mINFO    \u001b[0m | \u001b[36mopenai_hackathon_wait.api.utils.get_article_keywords\u001b[0m:\u001b[36mget_expanded_keywords\u001b[0m:\u001b[36m73\u001b[0m - \u001b[1mExpanded keywords response: keywords=['Causal Reasoning', 'Counterfactual Analysis Techniques', 'Probabilistic Causal Models', 'Machine Learning Transparency', 'Interpretability in AI Systems', 'Bayesian Causal Inference', 'Causal Discovery', 'Explainable Artificial Intelligence (XAI)', 'Decision Theory in AI', 'Uncertainty in Machine Learning']\u001b[0m\n",
      "\u001b[32m2025-04-26 03:20:59.099\u001b[0m | \u001b[1mINFO    \u001b[0m | \u001b[36mopenai_hackathon_wait.tools.arxiv_tool\u001b[0m:\u001b[36marxiv_search\u001b[0m:\u001b[36m79\u001b[0m - \u001b[1mExpanded keywords: ['Counterfactual Reasoning', 'Counterfactual Analysis Techniques', 'Uncertainty in Machine Learning', 'Causal Inference', 'Model Interpretability', 'Generative Models', 'Probabilistically Plausible Counterfactual Explanations', 'Probabilistic Plausibility', 'Causal Models', 'Explainable Machine Learning', 'Explainable AI', 'Counterfactual Explanations', 'PPCEF', 'AI Ethics', 'Statistical Explanations', 'Machine Learning Transparency', 'XAI', 'Machine Learning Interpretability', 'Probabilistic Models', 'Normalizing Flows', 'Flow-based Generative Models', 'Counterfactual Analysis', 'Causal Analysis', 'Uncertainty Quantification in AI', 'Explainable Artificial Intelligence (XAI)', 'Decision Making in AI', 'Interpretability in AI Systems', 'Bayesian Causal Inference', 'Causal Discovery', 'Decision Theory in AI', 'Bayesian Inference', 'AI Transparency', 'Data-Driven Explanations', 'Causal Reasoning', 'Probabilistic Causal Models']\u001b[0m\n",
      "\u001b[32m2025-04-26 03:21:02.693\u001b[0m | \u001b[1mINFO    \u001b[0m | \u001b[36mopenai_hackathon_wait.tools.arxiv_tool\u001b[0m:\u001b[36marxiv_search\u001b[0m:\u001b[36m83\u001b[0m - \u001b[1mFound 10 papers urls on arXiv matching the query\u001b[0m\n",
      "\u001b[32m2025-04-26 03:21:02.693\u001b[0m | \u001b[1mINFO    \u001b[0m | \u001b[36mopenai_hackathon_wait.tools.arxiv_tool\u001b[0m:\u001b[36marxiv_search\u001b[0m:\u001b[36m85\u001b[0m - \u001b[1mPapers: ['http://arxiv.org/pdf/2009.06399v1', 'http://arxiv.org/pdf/2009.06399v1', 'http://arxiv.org/pdf/2009.06399v1', 'http://arxiv.org/pdf/2009.06399v1', 'http://arxiv.org/pdf/2009.06399v1', 'http://arxiv.org/pdf/2009.06399v1', 'http://arxiv.org/pdf/2009.06399v1', 'http://arxiv.org/pdf/2009.06399v1', 'http://arxiv.org/pdf/2009.06399v1', 'http://arxiv.org/pdf/2009.06399v1']\u001b[0m\n",
      "\u001b[32m2025-04-26 03:21:07.616\u001b[0m | \u001b[1mINFO    \u001b[0m | \u001b[36mopenai_hackathon_wait.create_context\u001b[0m:\u001b[36mcreate_context\u001b[0m:\u001b[36m59\u001b[0m - \u001b[1mDownloading http://arxiv.org/pdf/2009.06399v1\u001b[0m\n",
      "\u001b[32m2025-04-26 03:21:15.458\u001b[0m | \u001b[1mINFO    \u001b[0m | \u001b[36mopenai_hackathon_wait.create_context\u001b[0m:\u001b[36mcreate_context\u001b[0m:\u001b[36m59\u001b[0m - \u001b[1mDownloading http://arxiv.org/pdf/2009.06399v1\u001b[0m\n",
      "\u001b[32m2025-04-26 03:21:21.570\u001b[0m | \u001b[1mINFO    \u001b[0m | \u001b[36mopenai_hackathon_wait.create_context\u001b[0m:\u001b[36mcreate_context\u001b[0m:\u001b[36m59\u001b[0m - \u001b[1mDownloading http://arxiv.org/pdf/2009.06399v1\u001b[0m\n",
      "\u001b[32m2025-04-26 03:21:25.132\u001b[0m | \u001b[1mINFO    \u001b[0m | \u001b[36mopenai_hackathon_wait.create_context\u001b[0m:\u001b[36mcreate_context\u001b[0m:\u001b[36m59\u001b[0m - \u001b[1mDownloading http://arxiv.org/pdf/2009.06399v1\u001b[0m\n",
      "\u001b[32m2025-04-26 03:21:29.844\u001b[0m | \u001b[1mINFO    \u001b[0m | \u001b[36mopenai_hackathon_wait.create_context\u001b[0m:\u001b[36mcreate_context\u001b[0m:\u001b[36m59\u001b[0m - \u001b[1mDownloading http://arxiv.org/pdf/2009.06399v1\u001b[0m\n",
      "\u001b[32m2025-04-26 03:21:34.401\u001b[0m | \u001b[1mINFO    \u001b[0m | \u001b[36mopenai_hackathon_wait.create_context\u001b[0m:\u001b[36mcreate_context\u001b[0m:\u001b[36m59\u001b[0m - \u001b[1mDownloading http://arxiv.org/pdf/2009.06399v1\u001b[0m\n",
      "\u001b[32m2025-04-26 03:21:41.229\u001b[0m | \u001b[1mINFO    \u001b[0m | \u001b[36mopenai_hackathon_wait.create_context\u001b[0m:\u001b[36mcreate_context\u001b[0m:\u001b[36m59\u001b[0m - \u001b[1mDownloading http://arxiv.org/pdf/2009.06399v1\u001b[0m\n",
      "\u001b[32m2025-04-26 03:21:48.384\u001b[0m | \u001b[1mINFO    \u001b[0m | \u001b[36mopenai_hackathon_wait.create_context\u001b[0m:\u001b[36mcreate_context\u001b[0m:\u001b[36m59\u001b[0m - \u001b[1mDownloading http://arxiv.org/pdf/2009.06399v1\u001b[0m\n",
      "\u001b[32m2025-04-26 03:21:52.383\u001b[0m | \u001b[1mINFO    \u001b[0m | \u001b[36mopenai_hackathon_wait.create_context\u001b[0m:\u001b[36mcreate_context\u001b[0m:\u001b[36m59\u001b[0m - \u001b[1mDownloading http://arxiv.org/pdf/2009.06399v1\u001b[0m\n",
      "\u001b[32m2025-04-26 03:21:56.377\u001b[0m | \u001b[1mINFO    \u001b[0m | \u001b[36mopenai_hackathon_wait.create_context\u001b[0m:\u001b[36mcreate_context\u001b[0m:\u001b[36m59\u001b[0m - \u001b[1mDownloading http://arxiv.org/pdf/2009.06399v1\u001b[0m\n"
     ]
    }
   ],
   "source": [
    "rag = await create_context(client, \"test\", PAPER_CONTENT)"
   ]
  },
  {
   "cell_type": "code",
   "execution_count": 6,
   "metadata": {},
   "outputs": [
    {
     "data": {
      "text/plain": [
       "[ResponseFileSearchToolCall(id='fs_680c356515748192bbbd43cef4d312740bbdce5c38eb3049', queries=['What is counterfactual explanation?'], status='completed', type='file_search_call', results=None),\n",
       " ResponseOutputMessage(id='msg_680c35671734819287f258d5dd3554270bbdce5c38eb3049', content=[ResponseOutputText(annotations=[AnnotationFileCitation(file_id='file-1aES9SJZLr2LF5p6nSPQkP', index=844, type='file_citation', filename='2009.06399v1.pdf')], text='A counterfactual explanation is a type of explanation that contrasts a factual outcome with a hypothetical alternative. For example, if an AI loan application system denies a request, a factual explanation might simply state the reasons for the denial. In contrast, a counterfactual explanation would state something like, “If you had applied for a slightly lower amount, you would have been accepted.”\\n\\nCounterfactual explanations have several benefits:\\n\\n1. **Computational**: They provide insights without making the internal workings of the AI system transparent.\\n2. **Psychological**: They engage users in causal thinking, making the explanations more relatable and impactful.\\n3. **Legal**: They are argued to comply with regulations like the GDPR, which emphasizes the need for understandable decision-making processes in automated systems.', type='output_text')], role='assistant', status='completed', type='message')]"
      ]
     },
     "execution_count": 6,
     "metadata": {},
     "output_type": "execute_result"
    }
   ],
   "source": [
    "await rag.ask_question(\"what is countefactual explanation?\")"
   ]
  },
  {
   "cell_type": "markdown",
   "metadata": {},
   "source": [
    "### RAG class checks"
   ]
  },
  {
   "cell_type": "code",
   "execution_count": 2,
   "metadata": {},
   "outputs": [],
   "source": [
    "client = AsyncOpenAI()\n",
    "rag = RAG(\"test\")"
   ]
  },
  {
   "cell_type": "code",
   "execution_count": 3,
   "metadata": {},
   "outputs": [],
   "source": [
    "await rag.create_vector_store()"
   ]
  },
  {
   "cell_type": "code",
   "execution_count": 4,
   "metadata": {},
   "outputs": [],
   "source": [
    "await rag.upload_file(\"../data/test_file.txt\")"
   ]
  },
  {
   "cell_type": "code",
   "execution_count": 5,
   "metadata": {},
   "outputs": [
    {
     "data": {
      "text/plain": [
       "[ResponseFileSearchToolCall(id='fs_680c204bc1b08192b26b03f5e07d71e7027745d365d9653f', queries=['what is life?', 'definition of life', 'meaning of life'], status='completed', type='file_search_call', results=None),\n",
       " ResponseOutputMessage(id='msg_680c204e11ec8192851bf90008fe1d2d027745d365d9653f', content=[ResponseOutputText(annotations=[], text='The files you uploaded do not directly provide a definition or explanation of \"life.\" However, if you\\'re seeking general perspectives on what life is, it can be described in various ways:\\n\\n1. **Biological Definition**: Life is typically characterized by biological processes such as growth, reproduction, responsiveness to stimuli, and metabolism.\\n\\n2. **Philosophical Perspective**: Philosophically, life can encompass the existential questions about existence, meaning, and purpose, often explored in the realms of ethics, symbolism, and personal experience.\\n\\n3. **Spiritual Context**: In many spiritual views, life is seen as a journey or a stage of existence that goes beyond mere biological factors, involving consciousness and a connection to something greater.\\n\\nIf you want a more specific aspect or a particular context regarding \"life,\" feel free to clarify!', type='output_text')], role='assistant', status='completed', type='message')]"
      ]
     },
     "execution_count": 5,
     "metadata": {},
     "output_type": "execute_result"
    }
   ],
   "source": [
    "await rag.ask_question(\"what is life?\")"
   ]
  },
  {
   "cell_type": "code",
   "execution_count": 15,
   "metadata": {},
   "outputs": [],
   "source": [
    "await rag.delete_vector_store()"
   ]
  },
  {
   "cell_type": "code",
   "execution_count": null,
   "metadata": {},
   "outputs": [],
   "source": []
  }
 ],
 "metadata": {
  "kernelspec": {
   "display_name": ".venv",
   "language": "python",
   "name": "python3"
  },
  "language_info": {
   "codemirror_mode": {
    "name": "ipython",
    "version": 3
   },
   "file_extension": ".py",
   "mimetype": "text/x-python",
   "name": "python",
   "nbconvert_exporter": "python",
   "pygments_lexer": "ipython3",
   "version": "3.12.9"
  }
 },
 "nbformat": 4,
 "nbformat_minor": 2
}
