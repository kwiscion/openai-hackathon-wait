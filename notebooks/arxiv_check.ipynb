{
 "cells": [
  {
   "cell_type": "code",
   "execution_count": 1,
   "metadata": {},
   "outputs": [],
   "source": [
    "from openai import OpenAI\n",
    "from dotenv import load_dotenv\n",
    "\n",
    "load_dotenv()\n",
    "\n",
    "client = OpenAI()"
   ]
  },
  {
   "cell_type": "code",
   "execution_count": 2,
   "metadata": {},
   "outputs": [],
   "source": [
<<<<<<< HEAD
    "from openai_hackathon_wait.tools.pubmed_tool import pubmed_tool"
=======
    "from openai_hackathon_wait.api.arxiv import arxiv_tool"
>>>>>>> main
   ]
  },
  {
   "cell_type": "code",
   "execution_count": 3,
   "metadata": {},
<<<<<<< HEAD
=======
   "outputs": [],
   "source": [
    "from agents import Agent, Runner, AsyncOpenAI, OpenAIChatCompletionsModel\n",
    "import asyncio\n",
    "\n",
    "arxiv_agent = Agent(\n",
    "    name=\"Arxiv agent\",\n",
    "    instructions=\"You provide information about the papers that are related to the query.\",\n",
    "    tools=[arxiv_tool],\n",
    "    model=\"gpt-4o-mini\", \n",
    ")\n",
    "\n",
    "triage_agent = Agent(\n",
    "    name=\"Triage agent\",\n",
    "    instructions=\"You are a helpful assistant that finds the most relevant papers from Arxiv.\",\n",
    "    handoffs=[arxiv_agent],\n",
    "    model=\"gpt-4o-mini\",\n",
    ")"
   ]
  },
  {
   "cell_type": "code",
   "execution_count": 4,
   "metadata": {},
   "outputs": [],
   "source": [
    "async def main():\n",
    "    result = await Runner.run(triage_agent, input=\"Find papers about soft decision trees in machine learning\")\n",
    "    print(result.final_output)"
   ]
  },
  {
   "cell_type": "code",
   "execution_count": 5,
   "metadata": {},
>>>>>>> main
   "outputs": [
    {
     "name": "stdout",
     "output_type": "stream",
     "text": [
<<<<<<< HEAD
      "Searching for: rheumatoid arthritis\n",
      "Retrieving article 40279037\n",
      "PMCID: None\n",
      "Retrieving article 40279008\n",
      "PMCID: None\n",
      "Retrieving article 40279006\n",
      "PMCID: None\n",
      "Searching for: rheumatoid arthritis treatment\n",
      "Retrieving article 40279006\n",
      "PMCID: None\n",
      "Retrieving article 40277884\n",
      "PMCID: None\n",
      "Retrieving article 40277325\n",
      "PMCID: None\n",
      "Searching for: rheumatoid arthritis epidemiology\n",
      "Retrieving article 40277034\n",
      "PMCID: None\n",
      "Retrieving article 40276516\n",
      "PMCID: None\n",
      "Retrieving article 40275579\n",
      "PMCID: None\n",
      "Here are the recent findings from scientific literature regarding rheumatoid arthritis, including studies on its associations, treatment, and epidemiology:\n",
      "\n",
      "### 1. Association Between T2DM, TyG Index, Multiple Sclerosis, and Rheumatoid Arthritis\n",
      "- **Authors:** Peng Y, Liu C, Gan R et al.\n",
      "- **Published in:** Molecular Neurobiology (2025)\n",
      "- **Summary:**\n",
      "  This study explores the possible causal associations between Type 2 Diabetes Mellitus (T2DM) and autoimmune-related diseases (ARDs), including rheumatoid arthritis. Utilizing Mendelian randomization and Bayesian colocalization, the investigation seeks to clarify how T2DM and insulin resistance affect immune cells linked to ARDs. The overall results suggest a complex relationship that warrants further exploration to fully understand the mechanisms at play.\n",
      "\n",
      "### 2. Patient-Reported Outcome Measures in Patients Treated with GP2015, an Etanercept Biosimilar\n",
      "- **Authors:** Thaçi D, Gerdes S, Schulze-Koops H et al.\n",
      "- **Published in:** Drugs in R&D (2025)\n",
      "- **Summary:**\n",
      "  This research focuses on GP2015, a biosimilar of etanercept, and its efficacy in treating moderate-to-severe rheumatoid arthritis. The study compares patient-reported outcome measures across two phase III studies (EGALITY and EQUIRA), indicating that GP2015 demonstrates equivalent efficacy and comparable safety to its reference counterpart. This offers important insights into patient experiences and satisfaction, which could influence treatment choices in clinical settings.\n",
      "\n",
      "### 3. Clinical and Immunological Predictors of Chronicity in Erythema Nodosum\n",
      "- **Authors:** Jain K, Pradhan P, Kumar Kar H et al.\n",
      "- **Published in:** Indian Journal of Dermatology, Venereology & Leprosy (2025)\n",
      "- **Summary:**\n",
      "  Although this study primarily targets erythema nodosum, it highlights the importance of recognizing systemic disorders, including rheumatoid arthritis, linked with chronic inflammatory conditions. The prospective study examined clinical characteristics and laboratory findings that could predict the condition's chronicity, ultimately emphasizing the need for a comprehensive understanding of immune responses in associated conditions.\n",
      "\n",
      "### Detailed Summary\n",
      "Rheumatoid arthritis remains a multifactorial disease with potential links to other chronic conditions, such as Type 2 Diabetes Mellitus. Emerging research, such as the study linking T2DM with ARDs, points to a deeper understanding of environmental and physiological factors affecting immune responses.\n",
      "\n",
      "Additionally, treatment advances, particularly with biosimilars like GP2015, demonstrate continued efforts to provide effective and patient-centric therapies, reinforcing the importance of patient-reported outcomes in gauging treatment impact. \n",
      "\n",
      "Finally, while not exclusively focused on rheumatoid arthritis, studies addressing chronic inflammatory conditions like erythema nodosum enrich the discourse on common immunological features, underscoring the complex interplay of various systemic diseases.\n",
      "\n",
      "These findings collectively underscore the ongoing evolution in the management and understanding of rheumatoid arthritis, interlinking it with broader metabolic and immunological pathways.\n",
      "\n",
      "--- \n",
      "If you need further in-depth insights or additional topics, feel free to ask!\n"
=======
      "Here are some papers related to soft decision trees in machine learning:\n",
      "\n",
      "1. **Rectified Decision Trees: Exploring the Landscape of Interpretable and Effective Machine Learning**\n",
      "   - **Authors**: Yiming Li, Jiawang Bai, Jiawei Li, Xue Yang, Yong Jiang, Shu-Tao Xia\n",
      "   - **Published**: 2020-08-21\n",
      "   - **Summary**: This paper discusses the balance between interpretability and effectiveness in machine learning, particularly through the lens of decision trees.\n",
      "\n",
      "2. **Analyzing Tree Architectures in Ensembles via Neural Tangent Kernel**\n",
      "   - **Authors**: Ryuichi Kanoh, Mahito Sugiyama\n",
      "   - **Published**: 2023-02-07\n",
      "   - **Summary**: This work explores soft trees, a variant of decision trees that are characterized by their ability to update and adapt, using neural tangent kernels for analysis.\n",
      "\n",
      "3. **Variational Boosted Soft Trees**\n",
      "   - **Authors**: Tristan Cinquin, Tammo Rukat, Philipp Schmidt, Martin Wistuba, Artur Bekasov\n",
      "   - **Published**: 2023-02-22\n",
      "   - **Summary**: The authors focus on gradient boosting machines based on decision trees, particularly highlighting the efficacy of variational methods in implementing soft trees.\n",
      "\n",
      "These papers provide insights into both theoretical and practical aspects of soft decision trees in machine learning.\n"
>>>>>>> main
     ]
    }
   ],
   "source": [
<<<<<<< HEAD
    "from agents import Agent, Runner, AsyncOpenAI, OpenAIChatCompletionsModel\n",
    "import asyncio\n",
    "\n",
    "# arxiv_agent = Agent(\n",
    "#     name=\"Arxiv agent\",\n",
    "#     instructions=\"You provide information about the papers that are related to the query.\",\n",
    "#     tools=[arxiv_search],\n",
    "#     model=\"gpt-4o-mini\",\n",
    "# )\n",
    "\n",
    "pubmed_agent = Agent(\n",
    "    name=\"Pubmed agent\",\n",
    "    instructions=\"\"\"You are a medical research assistant specializing in finding and summarizing\n",
    "    relevant scientific literature from PubMed. Use the search_pubmed tool to find information\n",
    "    about medical topics, diseases, treatments, and research.\n",
    "    \n",
    "    When searching PubMed:\n",
    "    1. Formulate specific search queries to get precise results\n",
    "    2. Extract key findings and insights from the articles\n",
    "    3. Present the information in a clear, structured format\n",
    "    4. Cite the sources properly\n",
    "    5. Be honest when information is not found or unclear\n",
    "\n",
    "    At the end provide a DETAILED SUMMARY of the papers you found.\n",
    "    \"\"\",\n",
    "    tools=[pubmed_tool],\n",
    "    model=\"gpt-4o-mini\",\n",
    ")\n",
    "\n",
    "triage_agent = Agent(\n",
    "    name=\"Triage agent\",\n",
    "    instructions=\"You are a helpful assistant that finds the most relevant papers from tools that have access to the databases.\",\n",
    "    handoffs=[pubmed_agent],\n",
    "    model=\"gpt-4o-mini\",\n",
    ")\n",
    "\n",
    "async def main():\n",
    "    result = await Runner.run(\n",
    "        triage_agent, input=\"Find papers about rheumatoid arthritis\"\n",
    "    )\n",
    "    print(result.final_output)\n",
    "\n",
    "await main()\n"
=======
    "await main()"
>>>>>>> main
   ]
  }
 ],
 "metadata": {
  "kernelspec": {
   "display_name": ".venv",
   "language": "python",
   "name": "python3"
  },
  "language_info": {
   "codemirror_mode": {
    "name": "ipython",
    "version": 3
   },
   "file_extension": ".py",
   "mimetype": "text/x-python",
   "name": "python",
   "nbconvert_exporter": "python",
   "pygments_lexer": "ipython3",
   "version": "3.12.9"
  }
 },
 "nbformat": 4,
 "nbformat_minor": 2
}
