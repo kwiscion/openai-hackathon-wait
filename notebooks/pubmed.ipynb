{
 "cells": [
  {
   "cell_type": "code",
   "execution_count": 1,
   "metadata": {},
   "outputs": [
    {
     "data": {
      "text/plain": [
       "True"
      ]
     },
     "execution_count": 1,
     "metadata": {},
     "output_type": "execute_result"
    }
   ],
   "source": [
    "from agents import Agent, Runner\n",
    "from dotenv import load_dotenv\n",
    "from openai import OpenAI\n",
    "\n",
    "from openai_hackathon_wait.tools.pubmed_tool import pubmed_tool\n",
    "\n",
    "load_dotenv()"
   ]
  },
  {
   "cell_type": "code",
   "execution_count": 2,
   "metadata": {},
   "outputs": [],
   "source": [
    "client = OpenAI()"
   ]
  },
  {
   "cell_type": "code",
   "execution_count": 3,
   "metadata": {},
   "outputs": [
    {
     "name": "stdout",
     "output_type": "stream",
     "text": [
      "Searching PubMed for: rheumatoid arthritis\n",
      "Searching PubMed for: rheumatoid arthritis\n",
      "Searching PubMed for: rheumatoid arthritis treatment\n",
      "Searching PubMed for: rheumatoid arthritis research\n",
      "Searching PubMed for: rheumatoid arthritis\n",
      "Searching PubMed for: rheumatoid arthritis 2023\n",
      "It seems I'm currently facing issues retrieving articles from PubMed. However, I can give you an overview of key research areas and findings related to rheumatoid arthritis.\n",
      "\n",
      "### Overview of Rheumatoid Arthritis (RA)\n",
      "Rheumatoid arthritis is a chronic inflammatory disorder that primarily affects joints, but can also have systemic implications. It is characterized by symmetrical polyarthritis and can lead to joint destruction and disability.\n",
      "\n",
      "### Key Research Areas\n",
      "1. **Pathogenesis**: Understanding the underlying mechanisms of RA, including genetic, environmental, and immunological factors.\n",
      "2. **Diagnosis**: Advances in biomarkers and imaging techniques that enhance early diagnosis and monitoring of disease activity.\n",
      "3. **Treatment Approaches**: \n",
      "   - **Conventional DMARDs** (Disease-Modifying Anti-Rheumatic Drugs) like Methotrexate.\n",
      "   - **Biologics**: Targeted therapies such as TNF inhibitors (e.g., Infliximab).\n",
      "   - **Newer Therapies**: JAK inhibitors and their role in managing RA.\n",
      "4. **Comorbidities**: Research into cardiovascular diseases, osteoporosis, and other health issues associated with RA.\n",
      "\n",
      "### Example Findings\n",
      "1. **Early Diagnosis**: Recent studies emphasize the importance of early intervention in preventing joint damage.\n",
      "2. **Treatment Efficacy**: The effectiveness of biologic therapies has been well-documented, showing significant improvements in patient outcomes.\n",
      "3. **Lifestyle Interventions**: Research suggests that diet, exercise, and smoking cessation can positively impact disease progression and overall health.\n",
      "\n",
      "### Recommendations\n",
      "For the latest research papers, I recommend checking PubMed directly or exploring recent issues of prominent rheumatology journals like *Arthritis & Rheumatology* or *The Journal of Rheumatology*.\n",
      "\n",
      "If you have specific topics within rheumatoid arthritis you would like me to address, please let me know!\n"
     ]
    }
   ],
   "source": [
    "pubmed_agent = Agent(\n",
    "    name=\"Pubmed agent\",\n",
    "    instructions=\"\"\"You are a medical research assistant specializing in finding and summarizing\n",
    "    relevant scientific literature from PubMed. Use the search_pubmed tool to find information\n",
    "    about medical topics, diseases, treatments, and research.\n",
    "    \n",
    "    When searching PubMed:\n",
    "    1. Formulate specific search queries to get precise results\n",
    "    2. Extract key findings and insights from the articles\n",
    "    4. Present AT LEAST 3 papers\n",
    "    3. Present the information in a clear, structured format\n",
    "    4. Cite the sources properly\n",
    "    5. Provide descriptions of EVERY paper\n",
    "    5. Be honest when information is not found or unclear\n",
    "    \"\"\",\n",
    "    tools=[pubmed_tool],\n",
    "    model=\"gpt-4o-mini\",\n",
    ")\n",
    "\n",
    "triage_agent = Agent(\n",
    "    name=\"Triage agent\",\n",
    "    instructions=\"You are a helpful assistant that finds the most relevant papers from tools that have access to the databases.\",\n",
    "    handoffs=[pubmed_agent],\n",
    "    model=\"gpt-4o-mini\",\n",
    ")\n",
    "\n",
    "\n",
    "async def main():\n",
    "    result = await Runner.run(\n",
    "        pubmed_agent, input=\"Find papers about rheumatoid arthritis\"\n",
    "    )\n",
    "    print(result.final_output)\n",
    "\n",
    "\n",
    "await main()"
   ]
  }
 ],
 "metadata": {
  "kernelspec": {
   "display_name": ".venv",
   "language": "python",
   "name": "python3"
  },
  "language_info": {
   "codemirror_mode": {
    "name": "ipython",
    "version": 3
   },
   "file_extension": ".py",
   "mimetype": "text/x-python",
   "name": "python",
   "nbconvert_exporter": "python",
   "pygments_lexer": "ipython3",
   "version": "3.12.9"
  }
 },
 "nbformat": 4,
 "nbformat_minor": 2
}
