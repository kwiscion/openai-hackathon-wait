{
 "cells": [
  {
   "cell_type": "code",
   "execution_count": 1,
   "metadata": {},
   "outputs": [],
   "source": [
    "from openai import AsyncOpenAI\n",
    "\n",
    "from openai_hackathon_wait.rag import RAG\n",
    "from openai_hackathon_wait.create_context import create_context"
   ]
  },
  {
   "cell_type": "code",
   "execution_count": 2,
   "metadata": {},
   "outputs": [],
   "source": [
    "PAPER_CONTENT = \"\"\"\n",
    "# Abstract\n",
    "\n",
    "We present PPCEF, a novel method for generating prob-\n",
    "abilistically plausible counterfactual explanations (CFs). PPCEF ad-\n",
    "vances beyond existing methods by combining a probabilistic formula-\n",
    "tion that leverages the data distribution with the optimization of plausi-\n",
    "bility within a unified framework. Compared to reference approaches,\n",
    "our method enforces plausibility by directly optimizing the explicit\n",
    "density function without assuming a particular family of parametrized\n",
    "distributions. This ensures CFs are not only valid (i.e., achieve class\n",
    "change) but also align with the underlying data’s probability density.\n",
    "For that purpose, our approach leverages normalizing flows as power-\n",
    "ful density estimators to capture the complex high-dimensional data\n",
    "distribution. Furthermore, we introduce a novel loss function that bal-\n",
    "ances the trade-off between achieving class change and maintaining\n",
    "closeness to the original instance while also incorporating a proba-\n",
    "bilistic plausibility term. PPCEF’s unconstrained formulation allows\n",
    "for an efficient gradient-based optimization with batch processing,\n",
    "leading to orders of magnitude faster computation compared to prior\n",
    "methods. Moreover, the unconstrained formulation of PPCEF allows\n",
    "for the seamless integration of future constraints tailored to specific\n",
    "counterfactual properties. Finally, extensive evaluations demonstrate\n",
    "PPCEF’s superiority in generating high-quality, probabilistically plau-\n",
    "sible counterfactual explanations in high-dimensional tabular settings.\n",
    "\n",
    "# Keywords\n",
    "Counterfactual Explanations, Probabilistic Plausibility, Normalizing Flows, Explainable AI (XAI)\n",
    "\"\"\""
   ]
  },
  {
   "cell_type": "code",
   "execution_count": 3,
   "metadata": {},
   "outputs": [],
   "source": [
    "client = AsyncOpenAI()"
   ]
  },
  {
   "cell_type": "code",
   "execution_count": 4,
   "metadata": {},
   "outputs": [
    {
     "name": "stderr",
     "output_type": "stream",
     "text": [
      "\u001b[32m2025-04-26 09:44:38.911\u001b[0m | \u001b[1mINFO    \u001b[0m | \u001b[36mopenai_hackathon_wait.tools.arxiv_tool\u001b[0m:\u001b[36marxiv_search\u001b[0m:\u001b[36m64\u001b[0m - \u001b[1mMax results: 5\u001b[0m\n",
      "\u001b[32m2025-04-26 09:44:38.912\u001b[0m | \u001b[1mINFO    \u001b[0m | \u001b[36mopenai_hackathon_wait.tools.arxiv_tool\u001b[0m:\u001b[36marxiv_search\u001b[0m:\u001b[36m65\u001b[0m - \u001b[1mSort by: relevance\u001b[0m\n",
      "\u001b[32m2025-04-26 09:44:38.912\u001b[0m | \u001b[1mINFO    \u001b[0m | \u001b[36mopenai_hackathon_wait.tools.arxiv_tool\u001b[0m:\u001b[36marxiv_search\u001b[0m:\u001b[36m77\u001b[0m - \u001b[1mStarting arXiv search for: PPCEF, a novel method for generating probabilistically plausible counterfactual explanations (CFs). ...\u001b[0m\n",
      "\u001b[32m2025-04-26 09:44:42.807\u001b[0m | \u001b[1mINFO    \u001b[0m | \u001b[36mopenai_hackathon_wait.api.utils.get_article_keywords\u001b[0m:\u001b[36mget_article_keywords\u001b[0m:\u001b[36m42\u001b[0m - \u001b[1mArticle keywords response: keywords=['PPCEF', 'probabilistically plausible counterfactual explanations', 'CFs', 'probabilistic formulation', 'data distribution', 'optimization of plausibility', 'normalizing flows', 'density estimators', 'high-dimensional data', 'loss function', 'class change', 'original instance', 'probabilistic plausibility term', 'high-quality counterfactuals', 'tabular data', 'machine learning explanations', 'explainable AI', 'causal inference', 'data-driven methods', 'counterfactual reasoning', 'model interpretability', 'statistical learning', 'algorithmic fairness', 'data representation', 'feature importance', 'generative models', 'adversarial examples', 'robustness in AI']\u001b[0m\n",
      "\u001b[32m2025-04-26 09:44:42.808\u001b[0m | \u001b[1mINFO    \u001b[0m | \u001b[36mopenai_hackathon_wait.tools.arxiv_tool\u001b[0m:\u001b[36marxiv_search\u001b[0m:\u001b[36m82\u001b[0m - \u001b[1mExtracted keywords: ['tabular data', 'counterfactual reasoning', 'feature importance', 'density estimators', 'data representation', 'probabilistically plausible counterfactual explanations', 'machine learning explanations', 'adversarial examples', 'data-driven methods', 'high-dimensional data', 'causal inference', 'explainable AI', 'algorithmic fairness', 'CFs', 'high-quality counterfactuals', 'probabilistic formulation', 'probabilistic plausibility term', 'model interpretability', 'statistical learning', 'data distribution', 'PPCEF', 'optimization of plausibility', 'normalizing flows', 'robustness in AI', 'original instance', 'generative models', 'loss function', 'class change']\u001b[0m\n",
      "\u001b[32m2025-04-26 09:44:47.466\u001b[0m | \u001b[1mINFO    \u001b[0m | \u001b[36mopenai_hackathon_wait.api.utils.get_article_keywords\u001b[0m:\u001b[36mget_expanded_keywords\u001b[0m:\u001b[36m73\u001b[0m - \u001b[1mExpanded keywords response: keywords=['structured data analysis', 'causal reasoning', 'feature significance', 'probability density functions', 'data visualization techniques', 'counterfactual analysis', 'explainable machine learning', 'adversarial attacks', 'data-centric approaches', 'high-dimensional statistics', 'causal models', 'interpretability in AI', 'fairness in algorithms', 'counterfactuals in machine learning', 'quality of counterfactuals', 'probabilistic reasoning', 'plausibility metrics', 'model transparency', 'statistical inference', 'data distribution analysis', 'probabilistic counterfactual explanations', 'optimization techniques in AI', 'normalizing flow models', 'AI robustness', 'original data instances', 'generative adversarial networks', 'loss optimization', 'class transformation in ML']\u001b[0m\n",
      "\u001b[32m2025-04-26 09:44:47.467\u001b[0m | \u001b[1mINFO    \u001b[0m | \u001b[36mopenai_hackathon_wait.tools.arxiv_tool\u001b[0m:\u001b[36marxiv_search\u001b[0m:\u001b[36m85\u001b[0m - \u001b[1mExpanded keywords: ['probabilistic reasoning', 'tabular data', 'counterfactual reasoning', 'structured data analysis', 'AI robustness', 'feature importance', 'loss optimization', 'high-dimensional statistics', 'density estimators', 'data representation', 'probabilistically plausible counterfactual explanations', 'machine learning explanations', 'counterfactuals in machine learning', 'adversarial examples', 'plausibility metrics', 'counterfactual analysis', 'data-centric approaches', 'statistical inference', 'data-driven methods', 'model transparency', 'adversarial attacks', 'feature significance', 'optimization techniques in AI', 'class transformation in ML', 'high-dimensional data', 'causal inference', 'explainable AI', 'algorithmic fairness', 'CFs', 'high-quality counterfactuals', 'original data instances', 'probabilistic formulation', 'causal reasoning', 'probabilistic plausibility term', 'normalizing flow models', 'model interpretability', 'interpretability in AI', 'causal models', 'statistical learning', 'data distribution', 'PPCEF', 'explainable machine learning', 'optimization of plausibility', 'probability density functions', 'generative adversarial networks', 'normalizing flows', 'robustness in AI', 'original instance', 'probabilistic counterfactual explanations', 'fairness in algorithms', 'generative models', 'data distribution analysis', 'quality of counterfactuals', 'loss function', 'class change', 'data visualization techniques']\u001b[0m\n",
      "\u001b[32m2025-04-26 09:44:52.600\u001b[0m | \u001b[1mINFO    \u001b[0m | \u001b[36mopenai_hackathon_wait.tools.arxiv_tool\u001b[0m:\u001b[36marxiv_search\u001b[0m:\u001b[36m89\u001b[0m - \u001b[1mFound 5 papers urls on arXiv matching the query\u001b[0m\n",
      "\u001b[32m2025-04-26 09:44:52.601\u001b[0m | \u001b[1mINFO    \u001b[0m | \u001b[36mopenai_hackathon_wait.tools.arxiv_tool\u001b[0m:\u001b[36marxiv_search\u001b[0m:\u001b[36m91\u001b[0m - \u001b[1mPapers: ['http://arxiv.org/pdf/2405.17642v1', 'http://arxiv.org/pdf/2405.17642v1', 'http://arxiv.org/pdf/2405.17642v1', 'http://arxiv.org/pdf/2405.17642v1', 'http://arxiv.org/pdf/2405.17642v1']\u001b[0m\n"
     ]
    },
    {
     "name": "stdout",
     "output_type": "stream",
     "text": [
      "[search] Generating deeper search queries for \"\n",
      "# Abstract\n",
      "\n",
      "We present PPCEF, a novel method for generating prob-\n",
      "abilistically plausible counterfactual explanations (CFs). PPCEF ad-\n",
      "vances beyond existing methods by combining a probabilistic formula-\n",
      "tion that leverages the data distribution with the optimization of plausi-\n",
      "bility within a unified framework. Compared to reference approaches,\n",
      "our method enforces plausibility by directly optimizing the explicit\n",
      "density function without assuming a particular family of parametrized\n",
      "distributions. This ensures CFs are not only valid (i.e., achieve class\n",
      "change) but also align with the underlying data’s probability density.\n",
      "For that purpose, our approach leverages normalizing flows as power-\n",
      "ful density estimators to capture the complex high-dimensional data\n",
      "distribution. Furthermore, we introduce a novel loss function that bal-\n",
      "ances the trade-off between achieving class change and maintaining\n",
      "closeness to the original instance while also incorporating a proba-\n",
      "bilistic plausibility term. PPCEF’s unconstrained formulation allows\n",
      "for an efficient gradient-based optimization with batch processing,\n",
      "leading to orders of magnitude faster computation compared to prior\n",
      "methods. Moreover, the unconstrained formulation of PPCEF allows\n",
      "for the seamless integration of future constraints tailored to specific\n",
      "counterfactual properties. Finally, extensive evaluations demonstrate\n",
      "PPCEF’s superiority in generating high-quality, probabilistically plau-\n",
      "sible counterfactual explanations in high-dimensional tabular settings.\n",
      "\n",
      "# Keywords\n",
      "Counterfactual Explanations, Probabilistic Plausibility, Normalizing Flows, Explainable AI (XAI)\n",
      "\"\n",
      "[search] Starting 3 parallel searches for \"\n",
      "# Abstract\n",
      "\n",
      "We present PPCEF, a novel method for generating prob-\n",
      "abilistically plausible counterfactual explanations (CFs). PPCEF ad-\n",
      "vances beyond existing methods by combining a probabilistic formula-\n",
      "tion that leverages the data distribution with the optimization of plausi-\n",
      "bility within a unified framework. Compared to reference approaches,\n",
      "our method enforces plausibility by directly optimizing the explicit\n",
      "density function without assuming a particular family of parametrized\n",
      "distributions. This ensures CFs are not only valid (i.e., achieve class\n",
      "change) but also align with the underlying data’s probability density.\n",
      "For that purpose, our approach leverages normalizing flows as power-\n",
      "ful density estimators to capture the complex high-dimensional data\n",
      "distribution. Furthermore, we introduce a novel loss function that bal-\n",
      "ances the trade-off between achieving class change and maintaining\n",
      "closeness to the original instance while also incorporating a proba-\n",
      "bilistic plausibility term. PPCEF’s unconstrained formulation allows\n",
      "for an efficient gradient-based optimization with batch processing,\n",
      "leading to orders of magnitude faster computation compared to prior\n",
      "methods. Moreover, the unconstrained formulation of PPCEF allows\n",
      "for the seamless integration of future constraints tailored to specific\n",
      "counterfactual properties. Finally, extensive evaluations demonstrate\n",
      "PPCEF’s superiority in generating high-quality, probabilistically plau-\n",
      "sible counterfactual explanations in high-dimensional tabular settings.\n",
      "\n",
      "# Keywords\n",
      "Counterfactual Explanations, Probabilistic Plausibility, Normalizing Flows, Explainable AI (XAI)\n",
      "\"\n",
      "[search] Searching for \"Probabilistically plausible counterfactual explanations in AI\" - Goal: To understand the basic concept of probabilistically plausible counterfactual explanations and their significance in AI.\n",
      "[search] Searching for \"Normalizing flows in generating counterfactual explanations\" - Goal: To explore how normalizing flows are utilized as density estimators in the context of generating counterfactual explanations.\n",
      "[search] Searching for \"Loss functions for optimizing counterfactual explanations\" - Goal: To investigate different loss functions used in the optimization of counterfactual explanations, focusing on the novel loss function introduced in PPCEF.\n",
      "[search] Found 15 new relevant results across 3 parallel queries\n",
      "[analyze] Analyzing findings and planning next steps\n",
      "[analyze] Analyzed findings\n",
      "[search] Generating deeper search queries for \"Need for more interpretability in counterfactual explanations for end-users.\"\n",
      "[search] Starting 3 parallel searches for \"Need for more interpretability in counterfactual explanations for end-users.\"\n",
      "[search] Searching for \"Causal modeling in counterfactual explanations\" - Goal: To establish a foundational understanding of causal modeling as it relates to counterfactual explanations in machine learning.\n",
      "[search] Searching for \"Probabilistically plausible counterfactual explanations using normalizing flows\" - Goal: To explore the specific method of generating counterfactual explanations that are both valid and plausible, as proposed in the recent arXiv paper.\n",
      "[search] Searching for \"Applications of counterfactual explanations in AI fairness and accountability\" - Goal: To investigate how counterfactual explanations can be utilized to enhance fairness and accountability in AI systems, drawing from recent literature.\n",
      "[search] Found 15 new relevant results across 3 parallel queries\n",
      "[analyze] Analyzing findings and planning next steps\n",
      "[analyze] Analyzed findings\n",
      "[synthesis] Preparing final analysis\n",
      "[synthesis] Research completed\n"
     ]
    },
    {
     "name": "stderr",
     "output_type": "stream",
     "text": [
      "\u001b[32m2025-04-26 09:46:46.405\u001b[0m | \u001b[1mINFO    \u001b[0m | \u001b[36mopenai_hackathon_wait.create_context\u001b[0m:\u001b[36mcreate_context\u001b[0m:\u001b[36m70\u001b[0m - \u001b[1mDownloading http://arxiv.org/pdf/2405.17642v1\u001b[0m\n"
     ]
    }
   ],
   "source": [
    "rag = await create_context(client, \"test\", PAPER_CONTENT)"
   ]
  },
  {
   "cell_type": "code",
   "execution_count": 5,
   "metadata": {},
   "outputs": [
    {
     "data": {
      "text/plain": [
       "[ResponseFileSearchToolCall(id='fs_680c8f6c769481929f09caa3f2a7ba3405cd05c24bad628c', queries=['What is counterfactual explanation?'], status='completed', type='file_search_call', results=None),\n",
       " ResponseOutputMessage(id='msg_680c8f6ea02c8192936c48ee667d3f0c05cd05c24bad628c', content=[ResponseOutputText(annotations=[AnnotationFileCitation(file_id='file-UqFoQV99iitDTu59hC8nY1', index=427, type='file_citation', filename='temp.txt'), AnnotationFileCitation(file_id='file-UqFoQV99iitDTu59hC8nY1', index=800, type='file_citation', filename='temp.txt')], text='Counterfactual explanations aim to answer \"what if\" questions by identifying the minimal changes needed to an input so that a machine learning model\\'s prediction shifts to a desired outcome. They are crucial in applications like credit scoring and medical diagnosis, where it is important for the explanations to be not only valid (achieving the desired prediction) but also realistic and plausible within the data distribution.\\n\\nThese explanations typically evaluate:\\n- **Validity:** Whether the counterfactual alters the prediction as intended.\\n- **Proximity:** How close the generated counterfactual is to the original input.\\n- **Sparsity and Actionability:** The number and nature of changes proposed.\\n- **Plausibility:** Whether the generated instance aligns realistically with the training data. \\n\\nThis framework advances transparency in AI systems, making it easier to understand decisions made by complex models .', type='output_text')], role='assistant', status='completed', type='message')]"
      ]
     },
     "execution_count": 5,
     "metadata": {},
     "output_type": "execute_result"
    }
   ],
   "source": [
    "await rag.ask_question(\"what is countefactual explanation?\")"
   ]
  },
  {
   "cell_type": "markdown",
   "metadata": {},
   "source": [
    "### RAG class checks"
   ]
  },
  {
   "cell_type": "code",
   "execution_count": 2,
   "metadata": {},
   "outputs": [],
   "source": [
    "client = AsyncOpenAI()\n",
    "rag = RAG(\"test\")"
   ]
  },
  {
   "cell_type": "code",
   "execution_count": 3,
   "metadata": {},
   "outputs": [],
   "source": [
    "await rag.create_vector_store()"
   ]
  },
  {
   "cell_type": "code",
   "execution_count": 4,
   "metadata": {},
   "outputs": [],
   "source": [
    "await rag.upload_file(\"../data/test_file.txt\")"
   ]
  },
  {
   "cell_type": "code",
   "execution_count": 5,
   "metadata": {},
   "outputs": [
    {
     "data": {
      "text/plain": [
       "[ResponseFileSearchToolCall(id='fs_680c204bc1b08192b26b03f5e07d71e7027745d365d9653f', queries=['what is life?', 'definition of life', 'meaning of life'], status='completed', type='file_search_call', results=None),\n",
       " ResponseOutputMessage(id='msg_680c204e11ec8192851bf90008fe1d2d027745d365d9653f', content=[ResponseOutputText(annotations=[], text='The files you uploaded do not directly provide a definition or explanation of \"life.\" However, if you\\'re seeking general perspectives on what life is, it can be described in various ways:\\n\\n1. **Biological Definition**: Life is typically characterized by biological processes such as growth, reproduction, responsiveness to stimuli, and metabolism.\\n\\n2. **Philosophical Perspective**: Philosophically, life can encompass the existential questions about existence, meaning, and purpose, often explored in the realms of ethics, symbolism, and personal experience.\\n\\n3. **Spiritual Context**: In many spiritual views, life is seen as a journey or a stage of existence that goes beyond mere biological factors, involving consciousness and a connection to something greater.\\n\\nIf you want a more specific aspect or a particular context regarding \"life,\" feel free to clarify!', type='output_text')], role='assistant', status='completed', type='message')]"
      ]
     },
     "execution_count": 5,
     "metadata": {},
     "output_type": "execute_result"
    }
   ],
   "source": [
    "await rag.ask_question(\"what is life?\")"
   ]
  },
  {
   "cell_type": "code",
   "execution_count": 15,
   "metadata": {},
   "outputs": [],
   "source": [
    "await rag.delete_vector_store()"
   ]
  },
  {
   "cell_type": "code",
   "execution_count": null,
   "metadata": {},
   "outputs": [],
   "source": []
  }
 ],
 "metadata": {
  "kernelspec": {
   "display_name": ".venv",
   "language": "python",
   "name": "python3"
  },
  "language_info": {
   "codemirror_mode": {
    "name": "ipython",
    "version": 3
   },
   "file_extension": ".py",
   "mimetype": "text/x-python",
   "name": "python",
   "nbconvert_exporter": "python",
   "pygments_lexer": "ipython3",
   "version": "3.12.9"
  }
 },
 "nbformat": 4,
 "nbformat_minor": 2
}
