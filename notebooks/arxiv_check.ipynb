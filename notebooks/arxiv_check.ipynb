{
 "cells": [
  {
   "cell_type": "code",
   "execution_count": 5,
   "metadata": {},
   "outputs": [],
   "source": [
    "from openai import OpenAI\n",
    "from dotenv import load_dotenv\n",
    "\n",
    "load_dotenv()\n",
    "\n",
    "client = OpenAI()"
   ]
  },
  {
   "cell_type": "code",
   "execution_count": 6,
   "metadata": {},
   "outputs": [],
   "source": [
    "from openai_hackathon_wait.tools.pubmed_tool import pubmed_tool"
   ]
  },
  {
   "cell_type": "code",
   "execution_count": null,
   "metadata": {},
   "outputs": [
    {
     "name": "stdout",
     "output_type": "stream",
     "text": [
      "Searching PubMed for: rheumatoid arthritis\n",
      "Searching PubMed for: rheumatoid arthritis treatment\n",
      "Here are some recent papers related to rheumatoid arthritis:\n",
      "\n",
      "1. **Association Between T2DM, TyG Index, Multiple Sclerosis, and Rheumatoid Arthritis: Insights into Potential Mechanisms**\n",
      "   - **Published:** April 25, 2025\n",
      "   - **Summary:** This study examines the causal relationships between type 2 diabetes mellitus (T2DM), the triglyceride-glucose (TyG) index, and autoimmune-related diseases, including rheumatoid arthritis (RA). It utilizes Mendelian randomization to analyze data from genome-wide association studies and identifies immune cell involvement and genetic variations impacting these associations.\n",
      "   - **Link:** [Read Article](https://example.com)\n",
      "\n",
      "2. **Patient-Reported Outcome Measures in Patients with Rheumatoid Arthritis, Psoriasis, or Psoriatic Arthritis Treated with GP2015, an Etanercept Biosimilar: Results from Two Phase III Studies (EGALITY and EQUIRA)**\n",
      "   - **Published:** April 25, 2025\n",
      "   - **Summary:** This study assesses the efficacy and safety of GP2015, an etanercept biosimilar, across different patient cohorts, including those with rheumatoid arthritis (RA). It reports on patient-reported outcomes including quality of life metrics and the impact of treatment switches.\n",
      "   - **Link:** [Read Article](https://example.com)\n",
      "\n",
      "Please let me know if you would like more specific topics or different aspects regarding rheumatoid arthritis!\n"
     ]
    }
   ],
   "source": [
    "from agents import Agent, Runner, AsyncOpenAI, OpenAIChatCompletionsModel\n",
    "import asyncio\n",
    "\n",
    "# arxiv_agent = Agent(\n",
    "#     name=\"Arxiv agent\",\n",
    "#     instructions=\"You provide information about the papers that are related to the query.\",\n",
    "#     tools=[arxiv_search],\n",
    "#     model=\"gpt-4o-mini\",\n",
    "# )\n",
    "\n",
    "pubmed_agent = Agent(\n",
    "    name=\"Pubmed agent\",\n",
    "    instructions=\"\"\"You are a medical research assistant specializing in finding and summarizing\n",
    "    relevant scientific literature from PubMed. Use the search_pubmed tool to find information\n",
    "    about medical topics, diseases, treatments, and research.\n",
    "    \n",
    "    When searching PubMed:\n",
    "    1. Formulate specific search queries to get precise results\n",
    "    2. Extract key findings and insights from the articles\n",
    "    3. Present the information in a clear, structured format\n",
    "    4. Cite the sources properly\n",
    "    5. Be honest when information is not found or unclear\n",
    "    \"\"\",\n",
    "    tools=[pubmed_tool],\n",
    "    model=\"gpt-4o-mini\",\n",
    ")\n",
    "\n",
    "triage_agent = Agent(\n",
    "    name=\"Triage agent\",\n",
    "    instructions=\"You are a helpful assistant that finds the most relevant papers from tools that have access to the databases.\",\n",
    "    handoffs=[pubmed_agent],\n",
    "    model=\"gpt-4o-mini\",\n",
    ")\n",
    "\n",
    "async def main():\n",
    "    result = await Runner.run(\n",
    "        triage_agent, input=\"Find papers about rheumatoid arthritis\"\n",
    "    )\n",
    "    print(result.final_output)\n",
    "\n",
    "await main()\n"
   ]
  }
 ],
 "metadata": {
  "kernelspec": {
   "display_name": ".venv",
   "language": "python",
   "name": "python3"
  },
  "language_info": {
   "codemirror_mode": {
    "name": "ipython",
    "version": 3
   },
   "file_extension": ".py",
   "mimetype": "text/x-python",
   "name": "python",
   "nbconvert_exporter": "python",
   "pygments_lexer": "ipython3",
   "version": "3.12.9"
  }
 },
 "nbformat": 4,
 "nbformat_minor": 2
}
