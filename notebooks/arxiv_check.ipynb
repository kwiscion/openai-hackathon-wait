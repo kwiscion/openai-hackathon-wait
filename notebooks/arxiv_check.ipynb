{
 "cells": [
  {
   "cell_type": "code",
   "execution_count": 1,
   "metadata": {},
   "outputs": [],
   "source": [
    "from openai import OpenAI\n",
    "from dotenv import load_dotenv\n",
    "\n",
    "load_dotenv()\n",
    "\n",
    "client = OpenAI()"
   ]
  },
  {
   "cell_type": "code",
   "execution_count": 2,
   "metadata": {},
   "outputs": [],
   "source": [
    "from openai_hackathon_wait.tools.arxiv_tool import arxiv_search"
   ]
  },
  {
   "cell_type": "code",
   "execution_count": 3,
   "metadata": {},
   "outputs": [],
   "source": [
    "PAPER_CONTENT = \"\"\"\n",
    "# Abstract\n",
    "\n",
    "We present PPCEF, a novel method for generating prob-\n",
    "abilistically plausible counterfactual explanations (CFs). PPCEF ad-\n",
    "vances beyond existing methods by combining a probabilistic formula-\n",
    "tion that leverages the data distribution with the optimization of plausi-\n",
    "bility within a unified framework. Compared to reference approaches,\n",
    "our method enforces plausibility by directly optimizing the explicit\n",
    "density function without assuming a particular family of parametrized\n",
    "distributions. This ensures CFs are not only valid (i.e., achieve class\n",
    "change) but also align with the underlying data’s probability density.\n",
    "For that purpose, our approach leverages normalizing flows as power-\n",
    "ful density estimators to capture the complex high-dimensional data\n",
    "distribution. Furthermore, we introduce a novel loss function that bal-\n",
    "ances the trade-off between achieving class change and maintaining\n",
    "closeness to the original instance while also incorporating a proba-\n",
    "bilistic plausibility term. PPCEF’s unconstrained formulation allows\n",
    "for an efficient gradient-based optimization with batch processing,\n",
    "leading to orders of magnitude faster computation compared to prior\n",
    "methods. Moreover, the unconstrained formulation of PPCEF allows\n",
    "for the seamless integration of future constraints tailored to specific\n",
    "counterfactual properties. Finally, extensive evaluations demonstrate\n",
    "PPCEF’s superiority in generating high-quality, probabilistically plau-\n",
    "sible counterfactual explanations in high-dimensional tabular settings.\n",
    "\n",
    "# Keywords\n",
    "Counterfactual Explanations, Probabilistic Plausibility, Normalizing Flows, Explainable AI (XAI)\n",
    "\"\"\""
   ]
  },
  {
   "cell_type": "code",
   "execution_count": 4,
   "metadata": {},
   "outputs": [],
   "source": [
    "from agents import Agent, Runner, AsyncOpenAI, OpenAIChatCompletionsModel\n",
    "import asyncio\n",
    "\n",
    "arxiv_agent = Agent(\n",
    "    name=\"Arxiv agent\",\n",
    "    instructions=\"You provide information about the papers that are related to the query. Return between 15 and 25 results by default.\",\n",
    "    tools=[arxiv_search],\n",
    "    model=\"gpt-4o-mini\",\n",
    "    output_type=list[str]\n",
    ")\n",
    "\n",
    "triage_agent = Agent(\n",
    "    name=\"Triage agent\",\n",
    "    instructions=\"You are a helpful assistant that finds the most relevant papers from Arxiv.\",\n",
    "    handoffs=[arxiv_agent],\n",
    "    model=\"gpt-4o-mini\",\n",
    "    output_type=list[str]\n",
    ")"
   ]
  },
  {
   "cell_type": "code",
   "execution_count": 5,
   "metadata": {},
   "outputs": [],
   "source": [
    "async def main():\n",
    "    result = await Runner.run(\n",
    "        triage_agent, input=PAPER_CONTENT\n",
    "    )\n",
    "    print(result.final_output)"
   ]
  },
  {
   "cell_type": "code",
   "execution_count": 6,
   "metadata": {},
   "outputs": [
    {
     "name": "stderr",
     "output_type": "stream",
     "text": [
      "\u001b[32m2025-04-26 00:56:36.574\u001b[0m | \u001b[1mINFO    \u001b[0m | \u001b[36mopenai_hackathon_wait.tools.arxiv_tool\u001b[0m:\u001b[36marxiv_search\u001b[0m:\u001b[36m60\u001b[0m - \u001b[1mMax results: 20\u001b[0m\n",
      "\u001b[32m2025-04-26 00:56:36.575\u001b[0m | \u001b[1mINFO    \u001b[0m | \u001b[36mopenai_hackathon_wait.tools.arxiv_tool\u001b[0m:\u001b[36marxiv_search\u001b[0m:\u001b[36m61\u001b[0m - \u001b[1mSort by: relevance\u001b[0m\n",
      "\u001b[32m2025-04-26 00:56:36.576\u001b[0m | \u001b[1mINFO    \u001b[0m | \u001b[36mopenai_hackathon_wait.tools.arxiv_tool\u001b[0m:\u001b[36marxiv_search\u001b[0m:\u001b[36m73\u001b[0m - \u001b[1mStarting arXiv search for: PPCEF, novel method for generating prob-ablistically plausible counterfactual explanations, combinin...\u001b[0m\n",
      "\u001b[32m2025-04-26 00:56:40.283\u001b[0m | \u001b[1mINFO    \u001b[0m | \u001b[36mopenai_hackathon_wait.api.utils.get_article_keywords\u001b[0m:\u001b[36mget_article_keywords\u001b[0m:\u001b[36m42\u001b[0m - \u001b[1mArticle keywords response: keywords=['PPCEF', 'probabilistic counterfactual explanations', 'novel method for counterfactuals', 'probabilistic formulation', 'optimizing plausibility', 'density function', 'normalizing flows', 'counterfactual properties', 'gradient-based optimization', 'Explainable AI', 'XAI', 'explainable machine learning', 'causal inference', 'probabilistic modeling', 'counterfactual reasoning', 'machine learning interpretability', 'AI transparency', 'data-driven explanations', 'model-agnostic explanations', 'Bayesian methods in XAI', 'generative models for counterfactuals', 'statistical properties of counterfactuals', 'optimization techniques in AI', 'explanation generation', 'AI ethics and explainability']\u001b[0m\n",
      "\u001b[32m2025-04-26 00:56:40.284\u001b[0m | \u001b[1mINFO    \u001b[0m | \u001b[36mopenai_hackathon_wait.tools.arxiv_tool\u001b[0m:\u001b[36marxiv_search\u001b[0m:\u001b[36m76\u001b[0m - \u001b[1mExtracted keywords: ['generative models for counterfactuals', 'PPCEF', 'explainable machine learning', 'AI ethics and explainability', 'AI transparency', 'optimization techniques in AI', 'probabilistic counterfactual explanations', 'counterfactual reasoning', 'optimizing plausibility', 'causal inference', 'counterfactual properties', 'normalizing flows', 'explanation generation', 'statistical properties of counterfactuals', 'Explainable AI', 'XAI', 'gradient-based optimization', 'data-driven explanations', 'density function', 'probabilistic formulation', 'machine learning interpretability', 'Bayesian methods in XAI', 'probabilistic modeling', 'model-agnostic explanations', 'novel method for counterfactuals']\u001b[0m\n",
      "\u001b[32m2025-04-26 00:56:41.520\u001b[0m | \u001b[1mINFO    \u001b[0m | \u001b[36mopenai_hackathon_wait.api.utils.get_article_keywords\u001b[0m:\u001b[36mget_expanded_keywords\u001b[0m:\u001b[36m73\u001b[0m - \u001b[1mExpanded keywords response: keywords=['causal models', 'counterfactual analysis', 'explainable artificial intelligence', 'ethical implications of AI', 'transparency in machine learning', 'AI optimization strategies', 'probabilistic reasoning', 'causal inference techniques', 'explanation frameworks', 'Bayesian inference in explainability']\u001b[0m\n",
      "\u001b[32m2025-04-26 00:56:41.521\u001b[0m | \u001b[1mINFO    \u001b[0m | \u001b[36mopenai_hackathon_wait.tools.arxiv_tool\u001b[0m:\u001b[36marxiv_search\u001b[0m:\u001b[36m79\u001b[0m - \u001b[1mExpanded keywords: ['generative models for counterfactuals', 'PPCEF', 'explainable machine learning', 'AI ethics and explainability', 'probabilistic reasoning', 'AI transparency', 'causal models', 'optimization techniques in AI', 'explanation frameworks', 'probabilistic counterfactual explanations', 'transparency in machine learning', 'counterfactual reasoning', 'optimizing plausibility', 'explainable artificial intelligence', 'causal inference', 'counterfactual properties', 'normalizing flows', 'explanation generation', 'statistical properties of counterfactuals', 'Explainable AI', 'XAI', 'gradient-based optimization', 'data-driven explanations', 'causal inference techniques', 'density function', 'Bayesian inference in explainability', 'AI optimization strategies', 'probabilistic formulation', 'ethical implications of AI', 'machine learning interpretability', 'Bayesian methods in XAI', 'counterfactual analysis', 'probabilistic modeling', 'model-agnostic explanations', 'novel method for counterfactuals']\u001b[0m\n",
      "\u001b[32m2025-04-26 00:56:45.559\u001b[0m | \u001b[1mINFO    \u001b[0m | \u001b[36mopenai_hackathon_wait.tools.arxiv_tool\u001b[0m:\u001b[36marxiv_search\u001b[0m:\u001b[36m83\u001b[0m - \u001b[1mFound 20 papers urls on arXiv matching the query\u001b[0m\n",
      "\u001b[32m2025-04-26 00:56:45.560\u001b[0m | \u001b[1mINFO    \u001b[0m | \u001b[36mopenai_hackathon_wait.tools.arxiv_tool\u001b[0m:\u001b[36marxiv_search\u001b[0m:\u001b[36m85\u001b[0m - \u001b[1mPapers: ['http://arxiv.org/pdf/2404.16174v1', 'http://arxiv.org/pdf/2404.16174v1', 'http://arxiv.org/pdf/2404.16174v1', 'http://arxiv.org/pdf/2404.16174v1', 'http://arxiv.org/pdf/2404.16174v1', 'http://arxiv.org/pdf/2404.16174v1', 'http://arxiv.org/pdf/2404.16174v1', 'http://arxiv.org/pdf/2404.16174v1', 'http://arxiv.org/pdf/2404.16174v1', 'http://arxiv.org/pdf/2404.16174v1', 'http://arxiv.org/pdf/2404.16174v1', 'http://arxiv.org/pdf/2404.16174v1', 'http://arxiv.org/pdf/2404.16174v1', 'http://arxiv.org/pdf/2404.16174v1', 'http://arxiv.org/pdf/2404.16174v1', 'http://arxiv.org/pdf/2404.16174v1', 'http://arxiv.org/pdf/2404.16174v1', 'http://arxiv.org/pdf/2404.16174v1', 'http://arxiv.org/pdf/2404.16174v1', 'http://arxiv.org/pdf/2404.16174v1']\u001b[0m\n"
     ]
    },
    {
     "name": "stdout",
     "output_type": "stream",
     "text": [
      "['http://arxiv.org/pdf/2404.16174v1', 'http://arxiv.org/pdf/2403.13536v1', 'http://arxiv.org/pdf/2402.08934v1', 'http://arxiv.org/pdf/2401.05559v1', 'http://arxiv.org/pdf/2402.05860v1', 'http://arxiv.org/pdf/2402.08456v1', 'http://arxiv.org/pdf/2401.10256v1', 'http://arxiv.org/pdf/2403.02097v1', 'http://arxiv.org/pdf/2402.09048v1', 'http://arxiv.org/pdf/2401.07865v1', 'http://arxiv.org/pdf/2404.10403v1', 'http://arxiv.org/pdf/2402.09567v1', 'http://arxiv.org/pdf/2401.07365v1', 'http://arxiv.org/pdf/2403.12345v1', 'http://arxiv.org/pdf/2401.08825v1', 'http://arxiv.org/pdf/2403.15689v1', 'http://arxiv.org/pdf/2402.06789v1', 'http://arxiv.org/pdf/2402.06123v1', 'http://arxiv.org/pdf/2401.09541v1', 'http://arxiv.org/pdf/2404.13456v1', 'http://arxiv.org/pdf/2401.04561v1']\n"
     ]
    }
   ],
   "source": [
    "res = await main()"
   ]
  },
  {
   "cell_type": "code",
   "execution_count": 7,
   "metadata": {},
   "outputs": [],
   "source": [
    "res"
   ]
  },
  {
   "cell_type": "code",
   "execution_count": null,
   "metadata": {},
   "outputs": [],
   "source": []
  }
 ],
 "metadata": {
  "kernelspec": {
   "display_name": ".venv",
   "language": "python",
   "name": "python3"
  },
  "language_info": {
   "codemirror_mode": {
    "name": "ipython",
    "version": 3
   },
   "file_extension": ".py",
   "mimetype": "text/x-python",
   "name": "python",
   "nbconvert_exporter": "python",
   "pygments_lexer": "ipython3",
   "version": "3.12.9"
  }
 },
 "nbformat": 4,
 "nbformat_minor": 2
}
