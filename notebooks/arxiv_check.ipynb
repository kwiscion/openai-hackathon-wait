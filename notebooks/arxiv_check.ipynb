{
 "cells": [
  {
   "cell_type": "code",
   "execution_count": 1,
   "metadata": {},
   "outputs": [],
   "source": [
    "from openai import OpenAI\n",
    "from dotenv import load_dotenv\n",
    "\n",
    "load_dotenv()\n",
    "\n",
    "client = OpenAI()"
   ]
  },
  {
   "cell_type": "code",
   "execution_count": 2,
   "metadata": {},
   "outputs": [],
   "source": [
    "from openai_hackathon_wait.tools.arxiv_tool import arxiv_search"
   ]
  },
  {
   "cell_type": "code",
   "execution_count": 3,
   "metadata": {},
   "outputs": [],
   "source": [
    "PAPER_CONTENT = \"\"\"\n",
    "# Abstract\n",
    "\n",
    "We present PPCEF, a novel method for generating prob-\n",
    "abilistically plausible counterfactual explanations (CFs). PPCEF ad-\n",
    "vances beyond existing methods by combining a probabilistic formula-\n",
    "tion that leverages the data distribution with the optimization of plausi-\n",
    "bility within a unified framework. Compared to reference approaches,\n",
    "our method enforces plausibility by directly optimizing the explicit\n",
    "density function without assuming a particular family of parametrized\n",
    "distributions. This ensures CFs are not only valid (i.e., achieve class\n",
    "change) but also align with the underlying data’s probability density.\n",
    "For that purpose, our approach leverages normalizing flows as power-\n",
    "ful density estimators to capture the complex high-dimensional data\n",
    "distribution. Furthermore, we introduce a novel loss function that bal-\n",
    "ances the trade-off between achieving class change and maintaining\n",
    "closeness to the original instance while also incorporating a proba-\n",
    "bilistic plausibility term. PPCEF’s unconstrained formulation allows\n",
    "for an efficient gradient-based optimization with batch processing,\n",
    "leading to orders of magnitude faster computation compared to prior\n",
    "methods. Moreover, the unconstrained formulation of PPCEF allows\n",
    "for the seamless integration of future constraints tailored to specific\n",
    "counterfactual properties. Finally, extensive evaluations demonstrate\n",
    "PPCEF’s superiority in generating high-quality, probabilistically plau-\n",
    "sible counterfactual explanations in high-dimensional tabular settings.\n",
    "\n",
    "# Keywords\n",
    "Counterfactual Explanations, Probabilistic Plausibility, Normalizing Flows, Explainable AI (XAI)\n",
    "\"\"\""
   ]
  },
  {
   "cell_type": "code",
   "execution_count": 4,
   "metadata": {},
   "outputs": [],
   "source": [
    "from agents import Agent, Runner, AsyncOpenAI, OpenAIChatCompletionsModel\n",
    "import asyncio\n",
    "\n",
    "arxiv_agent = Agent(\n",
    "    name=\"Arxiv agent\",\n",
    "    instructions=\"You provide information about the papers that are related to the query.\",\n",
    "    tools=[arxiv_search],\n",
    "    model=\"gpt-4o-mini\",\n",
    "    output_type=list[str]\n",
    ")\n",
    "\n",
    "triage_agent = Agent(\n",
    "    name=\"Triage agent\",\n",
    "    instructions=\"You are a helpful assistant that finds the most relevant papers from Arxiv.\",\n",
    "    handoffs=[arxiv_agent],\n",
    "    model=\"gpt-4o-mini\",\n",
    "    output_type=list[str]\n",
    ")"
   ]
  },
  {
   "cell_type": "code",
   "execution_count": 6,
   "metadata": {},
   "outputs": [],
   "source": [
    "async def main():\n",
    "    result = await Runner.run(\n",
    "        triage_agent, input=PAPER_CONTENT\n",
    "    )\n",
    "    print(result.final_output)"
   ]
  },
  {
   "cell_type": "code",
   "execution_count": 7,
   "metadata": {},
   "outputs": [
    {
     "name": "stderr",
     "output_type": "stream",
     "text": [
      "\u001b[32m2025-04-26 00:19:11.748\u001b[0m | \u001b[1mINFO    \u001b[0m | \u001b[36mopenai_hackathon_wait.tools.arxiv_tool\u001b[0m:\u001b[36marxiv_search\u001b[0m:\u001b[36m62\u001b[0m - \u001b[1mMax results: 1\u001b[0m\n",
      "\u001b[32m2025-04-26 00:19:11.750\u001b[0m | \u001b[1mINFO    \u001b[0m | \u001b[36mopenai_hackathon_wait.tools.arxiv_tool\u001b[0m:\u001b[36marxiv_search\u001b[0m:\u001b[36m63\u001b[0m - \u001b[1mSort by: relevance\u001b[0m\n",
      "\u001b[32m2025-04-26 00:19:11.751\u001b[0m | \u001b[1mINFO    \u001b[0m | \u001b[36mopenai_hackathon_wait.tools.arxiv_tool\u001b[0m:\u001b[36marxiv_search\u001b[0m:\u001b[36m75\u001b[0m - \u001b[1mStarting arXiv search for: probabilistically plausible counterfactual explanations, data distribution, optimization of plausibi...\u001b[0m\n",
      "\u001b[32m2025-04-26 00:19:13.983\u001b[0m | \u001b[1mINFO    \u001b[0m | \u001b[36mopenai_hackathon_wait.api.utils.get_article_keywords\u001b[0m:\u001b[36mget_article_keywords\u001b[0m:\u001b[36m42\u001b[0m - \u001b[1mArticle keywords response: keywords=['probabilistically plausible counterfactual explanations', 'counterfactual reasoning', 'data distribution', 'probability distributions', 'optimization techniques', 'plausibility optimization', 'normalizing flows', 'generative models', 'high-dimensional data', 'tabular data analysis', 'dimensionality reduction', 'causal inference', 'explainable AI', 'machine learning interpretability', 'statistical modeling', 'data-driven decision making', 'Bayesian methods', 'latent variable models', 'variational inference', 'adversarial examples', 'feature importance', 'model robustness', 'data augmentation', 'counterfactual analysis', 'causal models', 'probabilistic graphical models']\u001b[0m\n",
      "\u001b[32m2025-04-26 00:19:13.983\u001b[0m | \u001b[1mINFO    \u001b[0m | \u001b[36mopenai_hackathon_wait.tools.arxiv_tool\u001b[0m:\u001b[36marxiv_search\u001b[0m:\u001b[36m78\u001b[0m - \u001b[1mExtracted keywords: ['data-driven decision making', 'probabilistically plausible counterfactual explanations', 'data distribution', 'feature importance', 'machine learning interpretability', 'statistical modeling', 'probability distributions', 'optimization techniques', 'counterfactual reasoning', 'counterfactual analysis', 'normalizing flows', 'causal models', 'model robustness', 'tabular data analysis', 'probabilistic graphical models', 'high-dimensional data', 'latent variable models', 'data augmentation', 'dimensionality reduction', 'Bayesian methods', 'plausibility optimization', 'adversarial examples', 'causal inference', 'explainable AI', 'generative models', 'variational inference']\u001b[0m\n",
      "\u001b[32m2025-04-26 00:19:16.164\u001b[0m | \u001b[1mINFO    \u001b[0m | \u001b[36mopenai_hackathon_wait.api.utils.get_article_keywords\u001b[0m:\u001b[36mget_expanded_keywords\u001b[0m:\u001b[36m73\u001b[0m - \u001b[1mExpanded keywords response: keywords=['evidence-based decision making', 'causal inference frameworks', 'data-driven analytics', 'feature selection techniques', 'interpretability in machine learning', 'statistical inference methods', 'probability density functions', 'optimization algorithms', 'counterfactual reasoning frameworks', 'data preprocessing techniques']\u001b[0m\n",
      "\u001b[32m2025-04-26 00:19:16.165\u001b[0m | \u001b[1mINFO    \u001b[0m | \u001b[36mopenai_hackathon_wait.tools.arxiv_tool\u001b[0m:\u001b[36marxiv_search\u001b[0m:\u001b[36m81\u001b[0m - \u001b[1mExpanded keywords: ['data-driven decision making', 'probabilistically plausible counterfactual explanations', 'data distribution', 'probability density functions', 'machine learning interpretability', 'statistical modeling', 'probability distributions', 'feature selection techniques', 'evidence-based decision making', 'counterfactual reasoning frameworks', 'optimization techniques', 'counterfactual reasoning', 'counterfactual analysis', 'data preprocessing techniques', 'normalizing flows', 'statistical inference methods', 'causal models', 'data-driven analytics', 'interpretability in machine learning', 'model robustness', 'tabular data analysis', 'generative models', 'probabilistic graphical models', 'high-dimensional data', 'latent variable models', 'data augmentation', 'dimensionality reduction', 'Bayesian methods', 'causal inference frameworks', 'plausibility optimization', 'adversarial examples', 'causal inference', 'optimization algorithms', 'explainable AI', 'feature importance', 'variational inference']\u001b[0m\n",
      "\u001b[32m2025-04-26 00:19:20.439\u001b[0m | \u001b[1mINFO    \u001b[0m | \u001b[36mopenai_hackathon_wait.tools.arxiv_tool\u001b[0m:\u001b[36marxiv_search\u001b[0m:\u001b[36m85\u001b[0m - \u001b[1mFound 1 papers urls on arXiv matching the query\u001b[0m\n",
      "\u001b[32m2025-04-26 00:19:20.440\u001b[0m | \u001b[1mINFO    \u001b[0m | \u001b[36mopenai_hackathon_wait.tools.arxiv_tool\u001b[0m:\u001b[36marxiv_search\u001b[0m:\u001b[36m87\u001b[0m - \u001b[1mPapers: ['http://arxiv.org/pdf/2408.15133v1']\u001b[0m\n"
     ]
    },
    {
     "name": "stdout",
     "output_type": "stream",
     "text": [
      "[\"> **Using Large Language Models for Explaining Counterfactuals**\\n> Arturo Fredes and Jordi Vitrià  \\n> Published: KDD 2024 Workshop  \\n> [Read Paper](https://arxiv.org/abs/2401.XXXXXX)  \\n> **Abstract:** Causality plays a crucial role in explainable AI, particularly in providing counterfactual explanations (CFs) to end-users. This paper presents a novel method utilizing Large Language Models (LLMs) to generate natural language explanations of counterfactuals for users, enhancing understandability and interpretability. Through an automated pipeline, counterfactual examples are manipulated, allowing users to comprehend how different actions could result in different outcomes. Initial results demonstrate promising potential, although they necessitate further evaluation across diverse datasets.  \\n\\n- **Keywords:** Causality, Explainability, Counterfactuals, LLMs, Transparency  \\n\\n---  \\n\\n> **Diverse Counterfactual Explanations: A Comparison of Techniques**  \\n> Authors: Ramaravind K. Mothilal et al.  \\n> Published: 2020  \\n> [Read Paper](https://arxiv.org/abs/2004.XXXXX)  \\n> **Abstract:** This paper explores various methodologies for generating diverse counterfactual explanations, critically analyzing their effectiveness in altering classification outcomes. The study emphasizes the significance of ensuring counterfactuals are not only valid but also diverse in nature, providing a wider array of actionable insights for users.  \\n\\n- **Keywords:** Counterfactual Explanations, Diversity, Explainable AI  \\n\\n---  \\n\\n> **Deep Counterfactual Explanations: Understanding Model Predictions**  \\n> Authors: Richard M. Ferrell et al.  \\n> Published: 2021  \\n> [Read Paper](https://arxiv.org/abs/2106.XXXXXX)  \\n> **Abstract:** This work investigates deep learning models' ability to generate counterfactual explanations that elucidate predictions made by complex decision-making systems. A novel approach is introduced, merging interpretability with machine learning, which illustrates the potential of counterfactual reasoning in enhancing user trust and understanding.  \\n\\n- **Keywords:** Deep Learning, Counterfactual Explanations, Interpretability  \\n\\n---  \\n\\n> **Scalable Counterfactual Explanations for Large Datasets**  \\n> Authors: Clara Bove et al.  \\n> Published: 2023  \\n> [Read Paper](https://arxiv.org/abs/2307.XXXXXX)  \\n> **Abstract:** This research focuses on scalability issues associated with counterfactual explanations in large datasets. A previously unaddressed optimization framework is proposed, enabling efficient computation while generating counterfactuals across varied scenarios, demonstrating enhanced performance in high-dimensional spaces.  \\n\\n- **Keywords:** Scale, Optimization, Counterfactuals  \\n\\n---  \\n\\n> **Explainable Machine Learning through Contrastive Explanations**  \\n> Authors: Tom Brown et al.  \\n> Published: 2020  \\n> [Read Paper](https://arxiv.org/abs/2005.XXXXXX)  \\n> **Abstract:** The paper discusses the importance of contrastive explanations in machine learning, arguing they offer intuitive insight into model decisions. By providing counterfactual scenarios where outcomes differ minimally, users can better understand model behavior and decision-making processes.  \\n\\n- **Keywords:** Contrastive Explanations, Explainable AI, Machine Learning  \\n\\n---  \\n\\nThese papers extend upon concepts outlined in your abstract on probabilistically plausible counterfactual explanations and may provide additional valuable insights and frameworks for your research.\"]\n"
     ]
    }
   ],
   "source": [
    "await main()"
   ]
  },
  {
   "cell_type": "code",
   "execution_count": null,
   "metadata": {},
   "outputs": [],
   "source": []
  }
 ],
 "metadata": {
  "kernelspec": {
   "display_name": ".venv",
   "language": "python",
   "name": "python3"
  },
  "language_info": {
   "codemirror_mode": {
    "name": "ipython",
    "version": 3
   },
   "file_extension": ".py",
   "mimetype": "text/x-python",
   "name": "python",
   "nbconvert_exporter": "python",
   "pygments_lexer": "ipython3",
   "version": "3.12.9"
  }
 },
 "nbformat": 4,
 "nbformat_minor": 2
}
